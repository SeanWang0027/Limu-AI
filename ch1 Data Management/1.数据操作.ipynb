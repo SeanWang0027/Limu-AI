{
 "cells": [
  {
   "cell_type": "markdown",
   "id": "69a708c8",
   "metadata": {},
   "source": [
    "## 数据操作"
   ]
  },
  {
   "cell_type": "markdown",
   "id": "e87fc138",
   "metadata": {},
   "source": [
    "首先，我们导入`torch`。"
   ]
  },
  {
   "cell_type": "code",
   "execution_count": 44,
   "id": "0f96d75b",
   "metadata": {},
   "outputs": [],
   "source": [
    "import torch"
   ]
  },
  {
   "cell_type": "markdown",
   "id": "07f79371",
   "metadata": {},
   "source": [
    "张量表示一个数值组成的数组，这个数组可能有多个维度。"
   ]
  },
  {
   "cell_type": "code",
   "execution_count": 45,
   "id": "c1fe1607",
   "metadata": {},
   "outputs": [
    {
     "data": {
      "text/plain": [
       "tensor([ 0,  1,  2,  3,  4,  5,  6,  7,  8,  9, 10, 11])"
      ]
     },
     "execution_count": 45,
     "metadata": {},
     "output_type": "execute_result"
    }
   ],
   "source": [
    "x = torch.arange(12)\n",
    "x"
   ]
  },
  {
   "cell_type": "markdown",
   "id": "04b80efe",
   "metadata": {},
   "source": [
    "我们可以通过张量的`shape`属性来访问张量的形状和元素。"
   ]
  },
  {
   "cell_type": "code",
   "execution_count": 46,
   "id": "5d2856c9",
   "metadata": {},
   "outputs": [
    {
     "data": {
      "text/plain": [
       "torch.Size([12])"
      ]
     },
     "execution_count": 46,
     "metadata": {},
     "output_type": "execute_result"
    }
   ],
   "source": [
    "x.shape"
   ]
  },
  {
   "cell_type": "code",
   "execution_count": 47,
   "id": "ccdb7e22",
   "metadata": {},
   "outputs": [
    {
     "data": {
      "text/plain": [
       "12"
      ]
     },
     "execution_count": 47,
     "metadata": {},
     "output_type": "execute_result"
    }
   ],
   "source": [
    "x.numel()"
   ]
  },
  {
   "cell_type": "markdown",
   "id": "8c8681e7",
   "metadata": {},
   "source": [
    "`reshape`函数不改变数量与元素的值。"
   ]
  },
  {
   "cell_type": "code",
   "execution_count": 48,
   "id": "fec2ced3",
   "metadata": {},
   "outputs": [
    {
     "data": {
      "text/plain": [
       "tensor([[ 0,  1,  2,  3],\n",
       "        [ 4,  5,  6,  7],\n",
       "        [ 8,  9, 10, 11]])"
      ]
     },
     "execution_count": 48,
     "metadata": {},
     "output_type": "execute_result"
    }
   ],
   "source": [
    "X = x.reshape(3,4)\n",
    "X"
   ]
  },
  {
   "cell_type": "markdown",
   "id": "a784a9ae",
   "metadata": {},
   "source": [
    "可以构造全0，全1，其他常量或者从特定分布中随机采样的数字。"
   ]
  },
  {
   "cell_type": "code",
   "execution_count": 49,
   "id": "8518f40f",
   "metadata": {},
   "outputs": [
    {
     "data": {
      "text/plain": [
       "tensor([[[0., 0., 0., 0.],\n",
       "         [0., 0., 0., 0.],\n",
       "         [0., 0., 0., 0.]],\n",
       "\n",
       "        [[0., 0., 0., 0.],\n",
       "         [0., 0., 0., 0.],\n",
       "         [0., 0., 0., 0.]]])"
      ]
     },
     "execution_count": 49,
     "metadata": {},
     "output_type": "execute_result"
    }
   ],
   "source": [
    "torch.zeros((2,3,4))"
   ]
  },
  {
   "cell_type": "code",
   "execution_count": 50,
   "id": "2e1acd41",
   "metadata": {},
   "outputs": [
    {
     "data": {
      "text/plain": [
       "tensor([[[1., 1., 1., 1.],\n",
       "         [1., 1., 1., 1.],\n",
       "         [1., 1., 1., 1.]],\n",
       "\n",
       "        [[1., 1., 1., 1.],\n",
       "         [1., 1., 1., 1.],\n",
       "         [1., 1., 1., 1.]]])"
      ]
     },
     "execution_count": 50,
     "metadata": {},
     "output_type": "execute_result"
    }
   ],
   "source": [
    " torch.ones((2,3,4))"
   ]
  },
  {
   "cell_type": "markdown",
   "id": "eba07098",
   "metadata": {},
   "source": [
    "可以用python列表创建初值。使用`tensor`函数。"
   ]
  },
  {
   "cell_type": "code",
   "execution_count": 51,
   "id": "8183b3fd",
   "metadata": {},
   "outputs": [
    {
     "data": {
      "text/plain": [
       "torch.Size([2, 3])"
      ]
     },
     "execution_count": 51,
     "metadata": {},
     "output_type": "execute_result"
    }
   ],
   "source": [
    "y = torch.tensor([[1,2,3],[2,3,4]])\n",
    "y\n",
    "y.shape"
   ]
  },
  {
   "cell_type": "markdown",
   "id": "9b073635",
   "metadata": {},
   "source": [
    "对于张量可以进行算数运算。"
   ]
  },
  {
   "cell_type": "code",
   "execution_count": 52,
   "id": "cff06fac",
   "metadata": {},
   "outputs": [
    {
     "data": {
      "text/plain": [
       "(tensor([ 3.,  4.,  6., 10.]),\n",
       " tensor([-1.,  0.,  2.,  6.]),\n",
       " tensor([ 2.,  4.,  8., 16.]),\n",
       " tensor([0.5000, 1.0000, 2.0000, 4.0000]),\n",
       " tensor([ 1.,  4., 16., 64.]))"
      ]
     },
     "execution_count": 52,
     "metadata": {},
     "output_type": "execute_result"
    }
   ],
   "source": [
    "a = torch.tensor([1.0,2,4,8])\n",
    "b = torch.tensor([2,2,2,2])\n",
    "a+b,a-b,a*b,a/b,a**b"
   ]
  },
  {
   "cell_type": "code",
   "execution_count": 53,
   "id": "288ef411",
   "metadata": {},
   "outputs": [
    {
     "data": {
      "text/plain": [
       "tensor([2.7183e+00, 7.3891e+00, 5.4598e+01, 2.9810e+03])"
      ]
     },
     "execution_count": 53,
     "metadata": {},
     "output_type": "execute_result"
    }
   ],
   "source": [
    "torch.exp(a)"
   ]
  },
  {
   "cell_type": "markdown",
   "id": "05cf068b",
   "metadata": {},
   "source": [
    "可以把多个张量连接在一起。"
   ]
  },
  {
   "cell_type": "code",
   "execution_count": 54,
   "id": "7e649d1a",
   "metadata": {},
   "outputs": [
    {
     "data": {
      "text/plain": [
       "(tensor([[ 0.,  1.,  2.,  3.],\n",
       "         [ 4.,  5.,  6.,  7.],\n",
       "         [ 8.,  9., 10., 11.],\n",
       "         [ 2.,  1.,  4.,  3.],\n",
       "         [ 1.,  2.,  3.,  4.],\n",
       "         [ 4.,  3.,  2.,  1.]]),\n",
       " tensor([[ 0.,  1.,  2.,  3.,  2.,  1.,  4.,  3.],\n",
       "         [ 4.,  5.,  6.,  7.,  1.,  2.,  3.,  4.],\n",
       "         [ 8.,  9., 10., 11.,  4.,  3.,  2.,  1.]]))"
      ]
     },
     "execution_count": 54,
     "metadata": {},
     "output_type": "execute_result"
    }
   ],
   "source": [
    "A = torch.arange(12,dtype=torch.float32).reshape((3,4))\n",
    "B = torch.tensor([[2.0,1,4,3],[1,2,3,4],[4,3,2,1]])\n",
    "torch.cat((A,B),dim=0),torch.cat((A,B),dim = 1)"
   ]
  },
  {
   "cell_type": "markdown",
   "id": "39956d4a",
   "metadata": {},
   "source": [
    "根据逻辑运算符构建二元张量"
   ]
  },
  {
   "cell_type": "code",
   "execution_count": 55,
   "id": "ba0c40c9",
   "metadata": {},
   "outputs": [
    {
     "data": {
      "text/plain": [
       "tensor([[False,  True, False,  True],\n",
       "        [False, False, False, False],\n",
       "        [False, False, False, False]])"
      ]
     },
     "execution_count": 55,
     "metadata": {},
     "output_type": "execute_result"
    }
   ],
   "source": [
    "A == B"
   ]
  },
  {
   "cell_type": "markdown",
   "id": "b5c5b4a3",
   "metadata": {},
   "source": [
    "求和张量为一个一维张量"
   ]
  },
  {
   "cell_type": "code",
   "execution_count": 56,
   "id": "a80e92e2",
   "metadata": {},
   "outputs": [
    {
     "data": {
      "text/plain": [
       "tensor(66.)"
      ]
     },
     "execution_count": 56,
     "metadata": {},
     "output_type": "execute_result"
    }
   ],
   "source": [
    "A.sum()"
   ]
  },
  {
   "cell_type": "markdown",
   "id": "1cfd7181",
   "metadata": {},
   "source": [
    "广播机制，按照元素操作。对于同维度的两个张量存在一个扩张的机制。"
   ]
  },
  {
   "cell_type": "code",
   "execution_count": 57,
   "id": "4ee7fd88",
   "metadata": {},
   "outputs": [
    {
     "data": {
      "text/plain": [
       "(tensor([[0],\n",
       "         [1],\n",
       "         [2]]),\n",
       " tensor([[0, 1]]))"
      ]
     },
     "execution_count": 57,
     "metadata": {},
     "output_type": "execute_result"
    }
   ],
   "source": [
    "a = torch.arange(3).reshape((3,1))\n",
    "b = torch.arange(2).reshape((1,2))\n",
    "a,b"
   ]
  },
  {
   "cell_type": "code",
   "execution_count": 58,
   "id": "6dd5b825",
   "metadata": {},
   "outputs": [
    {
     "data": {
      "text/plain": [
       "tensor([[0, 1],\n",
       "        [1, 2],\n",
       "        [2, 3]])"
      ]
     },
     "execution_count": 58,
     "metadata": {},
     "output_type": "execute_result"
    }
   ],
   "source": [
    "a + b"
   ]
  },
  {
   "cell_type": "markdown",
   "id": "709e58fb",
   "metadata": {},
   "source": [
    "执行原地操作,本质上是对原来的数组内容进行赋值。而简单的加法是析构之后的结果。"
   ]
  },
  {
   "cell_type": "code",
   "execution_count": 59,
   "id": "8eba97df",
   "metadata": {},
   "outputs": [
    {
     "name": "stdout",
     "output_type": "stream",
     "text": [
      "id(Z): 140472823454352\n",
      "id(Z) 140472823454352\n"
     ]
    }
   ],
   "source": [
    "Z = torch.zeros_like(B)\n",
    "print('id(Z):',id(Z))\n",
    "Z[:] = A + B\n",
    "print('id(Z)',id(Z))"
   ]
  },
  {
   "cell_type": "markdown",
   "id": "fa3091e9",
   "metadata": {},
   "source": [
    "转换为NumPy张量"
   ]
  },
  {
   "cell_type": "code",
   "execution_count": 60,
   "id": "e5506ac7",
   "metadata": {},
   "outputs": [
    {
     "data": {
      "text/plain": [
       "(numpy.ndarray, torch.Tensor)"
      ]
     },
     "execution_count": 60,
     "metadata": {},
     "output_type": "execute_result"
    }
   ],
   "source": [
    "A = A.numpy()\n",
    "B = torch.tensor(A)\n",
    "type(A),type(B)"
   ]
  },
  {
   "cell_type": "markdown",
   "id": "cd590371",
   "metadata": {},
   "source": [
    "将大小为1的张量转换为python标量"
   ]
  },
  {
   "cell_type": "code",
   "execution_count": 61,
   "id": "dcb76e0b",
   "metadata": {},
   "outputs": [
    {
     "data": {
      "text/plain": [
       "(tensor([3.5000]), 3.5, 3.5, 3)"
      ]
     },
     "execution_count": 61,
     "metadata": {},
     "output_type": "execute_result"
    }
   ],
   "source": [
    "a = torch.tensor([3.5])\n",
    "a,a.item(),float(a),int(a)"
   ]
  },
  {
   "cell_type": "markdown",
   "id": "0db76dcd",
   "metadata": {},
   "source": [
    "张量的引用"
   ]
  },
  {
   "cell_type": "code",
   "execution_count": 62,
   "id": "d6a8920b",
   "metadata": {},
   "outputs": [
    {
     "data": {
      "text/plain": [
       "tensor([2, 2, 2, 2, 2, 2, 2, 2, 2, 2, 2, 2])"
      ]
     },
     "execution_count": 62,
     "metadata": {},
     "output_type": "execute_result"
    }
   ],
   "source": [
    "a = torch.arange(12)\n",
    "b = a.reshape((3,4))\n",
    "b[:] = 2\n",
    "a"
   ]
  }
 ],
 "metadata": {
  "kernelspec": {
   "display_name": "Pytorch for Deeplearning",
   "language": "python",
   "name": "pytorch"
  },
  "language_info": {
   "codemirror_mode": {
    "name": "ipython",
    "version": 3
   },
   "file_extension": ".py",
   "mimetype": "text/x-python",
   "name": "python",
   "nbconvert_exporter": "python",
   "pygments_lexer": "ipython3",
   "version": "3.9.13"
  }
 },
 "nbformat": 4,
 "nbformat_minor": 5
}
