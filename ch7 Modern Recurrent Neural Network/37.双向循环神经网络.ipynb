{
 "cells": [
  {
   "cell_type": "markdown",
   "metadata": {},
   "source": [
    "# 双向循环神经网络\n",
    "模型的实现架构可以参考如下：\n",
    "\n",
    "![Alt text](image-12.png)\n",
    "\n",
    "其中包括了两个隐藏层。这两个隐藏层的更新刚好是相反方向的。"
   ]
  },
  {
   "cell_type": "code",
   "execution_count": null,
   "metadata": {},
   "outputs": [],
   "source": []
  }
 ],
 "metadata": {
  "language_info": {
   "name": "python"
  },
  "orig_nbformat": 4
 },
 "nbformat": 4,
 "nbformat_minor": 2
}
